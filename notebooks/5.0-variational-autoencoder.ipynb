{
 "cells": [
  {
   "cell_type": "markdown",
   "metadata": {},
   "source": [
    "# Variational Autoencoder\n",
    "Build a variational autoencoder to work on fashion-MNIST data set. \"Hands-On Machine Learning\", by Aurelien Geron, is the basis for much of the code. https://github.com/ageron/handson-ml2"
   ]
  },
  {
   "cell_type": "code",
   "execution_count": 1,
   "metadata": {},
   "outputs": [
    {
     "name": "stdout",
     "output_type": "stream",
     "text": [
      "TensorFlow version:  2.0.0\n",
      "Keras version:  2.2.4-tf\n",
      "Tensorboard version: 2.0.0\n"
     ]
    }
   ],
   "source": [
    "import numpy as np\n",
    "import datetime\n",
    "import matplotlib as mpl\n",
    "import matplotlib.pyplot as plt\n",
    "import pandas as pd\n",
    "\n",
    "import tensorflow as tf\n",
    "from tensorflow import keras\n",
    "import tensorboard\n",
    "\n",
    "print('TensorFlow version: ', tf.__version__)\n",
    "print('Keras version: ', keras.__version__)\n",
    "print('Tensorboard version:', tensorboard.__version__)\n",
    "\n",
    "%matplotlib inline"
   ]
  },
  {
   "cell_type": "markdown",
   "metadata": {},
   "source": [
    "## 1.0 Load and Prepare Data"
   ]
  },
  {
   "cell_type": "code",
   "execution_count": 4,
   "metadata": {},
   "outputs": [],
   "source": [
    "# load fashion MNIST\n",
    "fashion_mnist = keras.datasets.fashion_mnist\n",
    "(X_train_all, y_train_all), (X_test, y_test) = fashion_mnist.load_data()"
   ]
  },
  {
   "cell_type": "code",
   "execution_count": 5,
   "metadata": {},
   "outputs": [
    {
     "name": "stdout",
     "output_type": "stream",
     "text": [
      "X_train_full shape: (60000, 28, 28)\n",
      "y_train_full shape: (60000,)\n",
      "X_test shape: (10000, 28, 28)\n",
      "y_test shape: (10000,)\n"
     ]
    }
   ],
   "source": [
    "# check the shape of the data sets\n",
    "print('X_train_full shape:', X_train_all.shape)\n",
    "print('y_train_full shape:', y_train_all.shape)\n",
    "print('X_test shape:', X_test.shape)\n",
    "print('y_test shape:', y_test.shape)"
   ]
  },
  {
   "cell_type": "code",
   "execution_count": 6,
   "metadata": {},
   "outputs": [],
   "source": [
    "class_names = [\"T-shirt/top\", \"Trouser\", \"Pullover\", \"Dress\", \"Coat\",\n",
    "               \"Sandal\", \"Shirt\", \"Sneaker\", \"Bag\", \"Ankle boot\"]"
   ]
  },
  {
   "cell_type": "code",
   "execution_count": 7,
   "metadata": {},
   "outputs": [
    {
     "name": "stdout",
     "output_type": "stream",
     "text": [
      "X_valid shape: (5000, 28, 28)\n",
      "y_valid shape: (5000,)\n",
      "X_train shape: (55000, 28, 28)\n",
      "y_train shape: (55000,)\n"
     ]
    }
   ],
   "source": [
    "# split the data between train and validation sets, and scale\n",
    "\n",
    "X_valid, X_train = X_train_all[:5000] / 255.0, X_train_all[5000:] / 255.0\n",
    "y_valid, y_train = y_train_all[:5000], y_train_all[5000:]\n",
    "\n",
    "# also scale the X_test\n",
    "X_test = X_test / 255.0\n",
    "\n",
    "print('X_valid shape:', X_valid.shape)\n",
    "print('y_valid shape:', y_valid.shape)\n",
    "print('X_train shape:', X_train.shape)\n",
    "print('y_train shape:', y_train.shape)"
   ]
  },
  {
   "cell_type": "markdown",
   "metadata": {},
   "source": [
    "## 2.0 Variational Autoencoder\n",
    "Build the variational autoencoder. First, we will create a custom function to sample the mean and log-variables."
   ]
  },
  {
   "cell_type": "code",
   "execution_count": 11,
   "metadata": {},
   "outputs": [],
   "source": [
    "# build custom sampling function\n",
    "K = keras.backend\n",
    "\n",
    "class Sampling(keras.layers.Layer):\n",
    "    def call(self, inputs):\n",
    "        mean, log_var = inputs\n",
    "        return K.random_normal(tf.shape(log_var)) * K.exp(log_var / 2) + mean"
   ]
  },
  {
   "cell_type": "code",
   "execution_count": 12,
   "metadata": {},
   "outputs": [],
   "source": [
    "# rounded accuracy for the metric\n",
    "def rounded_accuracy(y_true, y_pred):\n",
    "    return keras.metrics.binary_accuracy(tf.round(y_true), tf.round(y_pred))"
   ]
  },
  {
   "cell_type": "code",
   "execution_count": 13,
   "metadata": {},
   "outputs": [
    {
     "name": "stdout",
     "output_type": "stream",
     "text": [
      "Model: \"model\"\n",
      "__________________________________________________________________________________________________\n",
      "Layer (type)                    Output Shape         Param #     Connected to                     \n",
      "==================================================================================================\n",
      "input_2 (InputLayer)            [(None, 28, 28)]     0                                            \n",
      "__________________________________________________________________________________________________\n",
      "flatten_1 (Flatten)             (None, 784)          0           input_2[0][0]                    \n",
      "__________________________________________________________________________________________________\n",
      "dense_4 (Dense)                 (None, 150)          117750      flatten_1[0][0]                  \n",
      "__________________________________________________________________________________________________\n",
      "dense_5 (Dense)                 (None, 100)          15100       dense_4[0][0]                    \n",
      "__________________________________________________________________________________________________\n",
      "dense_6 (Dense)                 (None, 10)           1010        dense_5[0][0]                    \n",
      "__________________________________________________________________________________________________\n",
      "dense_7 (Dense)                 (None, 10)           1010        dense_5[0][0]                    \n",
      "__________________________________________________________________________________________________\n",
      "sampling_1 (Sampling)           (None, 10)           0           dense_6[0][0]                    \n",
      "                                                                 dense_7[0][0]                    \n",
      "==================================================================================================\n",
      "Total params: 134,870\n",
      "Trainable params: 134,870\n",
      "Non-trainable params: 0\n",
      "__________________________________________________________________________________________________\n",
      "Model: \"model_1\"\n",
      "_________________________________________________________________\n",
      "Layer (type)                 Output Shape              Param #   \n",
      "=================================================================\n",
      "input_3 (InputLayer)         [(None, 10)]              0         \n",
      "_________________________________________________________________\n",
      "dense_8 (Dense)              (None, 100)               1100      \n",
      "_________________________________________________________________\n",
      "dense_9 (Dense)              (None, 150)               15150     \n",
      "_________________________________________________________________\n",
      "dense_10 (Dense)             (None, 784)               118384    \n",
      "_________________________________________________________________\n",
      "reshape (Reshape)            (None, 28, 28)            0         \n",
      "=================================================================\n",
      "Total params: 134,634\n",
      "Trainable params: 134,634\n",
      "Non-trainable params: 0\n",
      "_________________________________________________________________\n"
     ]
    }
   ],
   "source": [
    "tf.random.set_seed(42)\n",
    "np.random.seed(42)\n",
    "\n",
    "codings_size = 10\n",
    "\n",
    "inputs = keras.layers.Input(shape=[28, 28])\n",
    "z = keras.layers.Flatten()(inputs)\n",
    "z = keras.layers.Dense(150, activation=\"selu\")(z)\n",
    "z = keras.layers.Dense(100, activation=\"selu\")(z)\n",
    "codings_mean = keras.layers.Dense(codings_size)(z)\n",
    "codings_log_var = keras.layers.Dense(codings_size)(z)\n",
    "codings = Sampling()([codings_mean, codings_log_var])\n",
    "variational_encoder = keras.models.Model(\n",
    "    inputs=[inputs], outputs=[codings_mean, codings_log_var, codings])\n",
    "\n",
    "decoder_inputs = keras.layers.Input(shape=[codings_size])\n",
    "x = keras.layers.Dense(100, activation=\"selu\")(decoder_inputs)\n",
    "x = keras.layers.Dense(150, activation=\"selu\")(x)\n",
    "x = keras.layers.Dense(28 * 28, activation=\"sigmoid\")(x)\n",
    "outputs = keras.layers.Reshape([28, 28])(x)\n",
    "variational_decoder = keras.models.Model(inputs=[decoder_inputs], outputs=[outputs])\n",
    "\n",
    "_, _, codings = variational_encoder(inputs)\n",
    "reconstructions = variational_decoder(codings)\n",
    "variational_ae = keras.models.Model(inputs=[inputs], outputs=[reconstructions])\n",
    "\n",
    "latent_loss = -0.5 * K.sum(\n",
    "    1 + codings_log_var - K.exp(codings_log_var) - K.square(codings_mean),\n",
    "    axis=-1)\n",
    "variational_ae.add_loss(K.mean(latent_loss) / 784.)\n",
    "variational_ae.compile(loss=\"binary_crossentropy\", optimizer=\"rmsprop\", metrics=[rounded_accuracy])\n",
    "\n",
    "variational_encoder.summary()\n",
    "variational_decoder.summary()"
   ]
  },
  {
   "cell_type": "code",
   "execution_count": 14,
   "metadata": {},
   "outputs": [
    {
     "name": "stdout",
     "output_type": "stream",
     "text": [
      "Train on 55000 samples, validate on 5000 samples\n",
      "Epoch 1/25\n",
      "55000/55000 [==============================] - 4s 67us/sample - loss: 0.3909 - rounded_accuracy: 0.8598 - val_loss: 0.3506 - val_rounded_accuracy: 0.8850\n",
      "Epoch 2/25\n",
      "55000/55000 [==============================] - 2s 38us/sample - loss: 0.3426 - rounded_accuracy: 0.8981 - val_loss: 0.3317 - val_rounded_accuracy: 0.9070\n",
      "Epoch 3/25\n",
      "55000/55000 [==============================] - 2s 38us/sample - loss: 0.3328 - rounded_accuracy: 0.9054 - val_loss: 0.3293 - val_rounded_accuracy: 0.9044\n",
      "Epoch 4/25\n",
      "55000/55000 [==============================] - 2s 38us/sample - loss: 0.3279 - rounded_accuracy: 0.9091 - val_loss: 0.3217 - val_rounded_accuracy: 0.9137\n",
      "Epoch 5/25\n",
      "55000/55000 [==============================] - 2s 37us/sample - loss: 0.3247 - rounded_accuracy: 0.9120 - val_loss: 0.3226 - val_rounded_accuracy: 0.9111\n",
      "Epoch 6/25\n",
      "55000/55000 [==============================] - 2s 37us/sample - loss: 0.3225 - rounded_accuracy: 0.9136 - val_loss: 0.3197 - val_rounded_accuracy: 0.9164\n",
      "Epoch 7/25\n",
      "55000/55000 [==============================] - 2s 38us/sample - loss: 0.3208 - rounded_accuracy: 0.9151 - val_loss: 0.3191 - val_rounded_accuracy: 0.9141\n",
      "Epoch 8/25\n",
      "55000/55000 [==============================] - 2s 38us/sample - loss: 0.3195 - rounded_accuracy: 0.9161 - val_loss: 0.3175 - val_rounded_accuracy: 0.9174\n",
      "Epoch 9/25\n",
      "55000/55000 [==============================] - 2s 41us/sample - loss: 0.3185 - rounded_accuracy: 0.9170 - val_loss: 0.3162 - val_rounded_accuracy: 0.9167\n",
      "Epoch 10/25\n",
      "55000/55000 [==============================] - 2s 41us/sample - loss: 0.3177 - rounded_accuracy: 0.9176 - val_loss: 0.3182 - val_rounded_accuracy: 0.9173\n",
      "Epoch 11/25\n",
      "55000/55000 [==============================] - 3s 46us/sample - loss: 0.3169 - rounded_accuracy: 0.9183 - val_loss: 0.3137 - val_rounded_accuracy: 0.9190\n",
      "Epoch 12/25\n",
      "55000/55000 [==============================] - 3s 47us/sample - loss: 0.3163 - rounded_accuracy: 0.9187 - val_loss: 0.3123 - val_rounded_accuracy: 0.9212\n",
      "Epoch 13/25\n",
      "55000/55000 [==============================] - 2s 44us/sample - loss: 0.3157 - rounded_accuracy: 0.9191 - val_loss: 0.3133 - val_rounded_accuracy: 0.9205\n",
      "Epoch 14/25\n",
      "55000/55000 [==============================] - 2s 39us/sample - loss: 0.3153 - rounded_accuracy: 0.9195 - val_loss: 0.3127 - val_rounded_accuracy: 0.9173\n",
      "Epoch 15/25\n",
      "55000/55000 [==============================] - 2s 39us/sample - loss: 0.3148 - rounded_accuracy: 0.9198 - val_loss: 0.3158 - val_rounded_accuracy: 0.9145\n",
      "Epoch 16/25\n",
      "55000/55000 [==============================] - 2s 37us/sample - loss: 0.3145 - rounded_accuracy: 0.9201 - val_loss: 0.3118 - val_rounded_accuracy: 0.9211\n",
      "Epoch 17/25\n",
      "55000/55000 [==============================] - 2s 38us/sample - loss: 0.3141 - rounded_accuracy: 0.9203 - val_loss: 0.3122 - val_rounded_accuracy: 0.9189\n",
      "Epoch 18/25\n",
      "55000/55000 [==============================] - 2s 37us/sample - loss: 0.3138 - rounded_accuracy: 0.9205 - val_loss: 0.3116 - val_rounded_accuracy: 0.9217\n",
      "Epoch 19/25\n",
      "55000/55000 [==============================] - 2s 38us/sample - loss: 0.3136 - rounded_accuracy: 0.9207 - val_loss: 0.3125 - val_rounded_accuracy: 0.9196\n",
      "Epoch 20/25\n",
      "55000/55000 [==============================] - 2s 38us/sample - loss: 0.3132 - rounded_accuracy: 0.9209 - val_loss: 0.3098 - val_rounded_accuracy: 0.9229\n",
      "Epoch 21/25\n",
      "55000/55000 [==============================] - 2s 38us/sample - loss: 0.3130 - rounded_accuracy: 0.9212 - val_loss: 0.3106 - val_rounded_accuracy: 0.9224\n",
      "Epoch 22/25\n",
      "55000/55000 [==============================] - 2s 37us/sample - loss: 0.3127 - rounded_accuracy: 0.9212 - val_loss: 0.3095 - val_rounded_accuracy: 0.9235\n",
      "Epoch 23/25\n",
      "55000/55000 [==============================] - 2s 42us/sample - loss: 0.3126 - rounded_accuracy: 0.9215 - val_loss: 0.3112 - val_rounded_accuracy: 0.9207\n",
      "Epoch 24/25\n",
      "55000/55000 [==============================] - 2s 45us/sample - loss: 0.3124 - rounded_accuracy: 0.9216 - val_loss: 0.3115 - val_rounded_accuracy: 0.9195\n",
      "Epoch 25/25\n",
      "55000/55000 [==============================] - 2s 38us/sample - loss: 0.3122 - rounded_accuracy: 0.9218 - val_loss: 0.3085 - val_rounded_accuracy: 0.9227\n"
     ]
    }
   ],
   "source": [
    "history = variational_ae.fit(X_train, X_train, epochs=25, batch_size=128,\n",
    "                             validation_data=[X_valid, X_valid])"
   ]
  },
  {
   "cell_type": "code",
   "execution_count": 15,
   "metadata": {},
   "outputs": [
    {
     "data": {
      "image/png": "[encoded data removed]",
      "text/plain": [
       "<Figure size 1125x450 with 10 Axes>"
      ]
     },
     "metadata": {
      "needs_background": "light"
     },
     "output_type": "display_data"
    }
   ],
   "source": [
    "# plot the results\n",
    "def plot_reconstructions(model, index_list, X_valid): \n",
    "    reconstructions = model.predict(X_valid)\n",
    "    \n",
    "    # get the length of index_list to set number of\n",
    "    # images to plot\n",
    "    n_images = len(index_list)\n",
    "\n",
    "    # Plot a random sample\n",
    "    fig, axes = plt.subplots(2, n_images,figsize=(n_images*1.5,3),dpi=150)\n",
    "    # fig.suptitle('Digits for Sample %i' %num, size=15, x=0.2)\n",
    "\n",
    "    for i in range(0, n_images):\n",
    "        axes[0][i].imshow(np.reshape(X_valid[index_list[i],:,:],[28,28]), cmap='Greys_r')\n",
    "        axes[0][i].axis('off')\n",
    "        axes[0][i].set_title(str(index_list[i]))\n",
    "        axes[1][i].imshow(np.reshape(reconstructions[index_list[i],:,:],[28,28]), cmap='Greys_r')\n",
    "        axes[1][i].axis('off')\n",
    "        \n",
    "    plt.show()\n",
    "\n",
    "import random\n",
    "index_list = random.sample(range(0,len(X_valid)), 5)\n",
    "plot_reconstructions(variational_ae, index_list, X_valid)"
   ]
  }
 ],
 "metadata": {
  "kernelspec": {
   "display_name": "Python 3",
   "language": "python",
   "name": "python3"
  },
  "language_info": {
   "codemirror_mode": {
    "name": "ipython",
    "version": 3
   },
   "file_extension": ".py",
   "mimetype": "text/x-python",
   "name": "python",
   "nbconvert_exporter": "python",
   "pygments_lexer": "ipython3",
   "version": "3.7.3"
  }
 },
 "nbformat": 4,
 "nbformat_minor": 2
}
