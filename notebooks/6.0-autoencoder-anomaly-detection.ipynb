{
 "cells": [
  {
   "cell_type": "markdown",
   "metadata": {},
   "source": [
    "# Autoencoder Anomaly Detection\n",
    "Prototype an anomaly detection algorithm using autoencoders. Will be using fashion-MNIST data set. \"Hands-On Machine Learning\", by Aurelien Geron, is the basis for much of the code. https://github.com/ageron/handson-ml2"
   ]
  },
  {
   "cell_type": "code",
   "execution_count": 14,
   "metadata": {},
   "outputs": [
    {
     "name": "stdout",
     "output_type": "stream",
     "text": [
      "TensorFlow version:  2.0.0\n",
      "Keras version:  2.2.4-tf\n",
      "Tensorboard version: 2.0.0\n"
     ]
    }
   ],
   "source": [
    "import numpy as np\n",
    "import datetime\n",
    "import matplotlib as mpl\n",
    "import matplotlib.pyplot as plt\n",
    "import pandas as pd\n",
    "\n",
    "import tensorflow as tf\n",
    "from tensorflow import keras\n",
    "import tensorboard\n",
    "\n",
    "from sklearn.metrics import confusion_matrix, roc_auc_score, roc_curve\n",
    "\n",
    "print('TensorFlow version: ', tf.__version__)\n",
    "print('Keras version: ', keras.__version__)\n",
    "print('Tensorboard version:', tensorboard.__version__)\n",
    "\n",
    "%matplotlib inline"
   ]
  },
  {
   "cell_type": "markdown",
   "metadata": {},
   "source": [
    "## 1.0 Load and Prepare Data"
   ]
  },
  {
   "cell_type": "code",
   "execution_count": 2,
   "metadata": {},
   "outputs": [],
   "source": [
    "# load fashion MNIST\n",
    "fashion_mnist = keras.datasets.fashion_mnist\n",
    "(X_train_all, y_train_all), (X_test, y_test) = fashion_mnist.load_data()\n",
    "\n",
    "# convert all to dtype float32\n",
    "X_train_all = X_train_all.astype('float32')\n",
    "X_test = X_test.astype('float32')"
   ]
  },
  {
   "cell_type": "code",
   "execution_count": 3,
   "metadata": {},
   "outputs": [],
   "source": [
    "# class names\n",
    "class_names = [\"T-shirt/top\", \"Trouser\", \"Pullover\", \"Dress\", \"Coat\",\n",
    "               \"Sandal\", \"Shirt\", \"Sneaker\", \"Bag\", \"Ankle boot\"]"
   ]
  },
  {
   "cell_type": "code",
   "execution_count": 4,
   "metadata": {},
   "outputs": [
    {
     "name": "stdout",
     "output_type": "stream",
     "text": [
      "X_val shape: (5000, 28, 28)\n",
      "y_val shape: (5000,)\n",
      "X_val_slim shape: (5000, 28, 28)\n",
      "y_val_slim shape: (5000,)\n",
      "X_train_slim shape: (50000, 28, 28)\n",
      "y_train_slim shape: (50000,)\n"
     ]
    }
   ],
   "source": [
    "# split the data between train and validation sets, and scale\n",
    "# also have a \"slimmed down\" data set that has only positive classes that will be used to train the autoencoder\n",
    "X_val, X_val_slim, X_train_slim = X_train_all[:5000] / 255.0, \\\n",
    "                                        X_train_all[5000:10000] / 255.0, \\\n",
    "                                        X_train_all[10000:] / 255.0\n",
    "y_val, y_val_slim, y_train_slim = y_train_all[:5000],y_train_all[5000:10000], y_train_all[10000:]\n",
    "\n",
    "# also scale the X_test\n",
    "X_test = X_test / 255.0\n",
    "\n",
    "print('X_val shape:', X_val.shape)\n",
    "print('y_val shape:', y_val.shape)\n",
    "print('X_val_slim shape:', X_val_slim.shape)\n",
    "print('y_val_slim shape:', y_val_slim.shape)\n",
    "print('X_train_slim shape:', X_train_slim.shape)\n",
    "print('y_train_slim shape:', y_train_slim.shape)"
   ]
  },
  {
   "cell_type": "code",
   "execution_count": 5,
   "metadata": {},
   "outputs": [],
   "source": [
    "def remove_classes(class_to_remove, y_val_slim, X_val_slim):\n",
    "    \"\"\"Funciton to remove classes from train/val set\"\"\"\n",
    "    \n",
    "    # start with y_valid_slim\n",
    "    index_to_delete = []\n",
    "    for i, class_digit in enumerate(y_val_slim):\n",
    "        if class_digit in class_to_remove:\n",
    "            index_to_delete.append(i)\n",
    "\n",
    "    y_val_slim = np.delete(y_val_slim, index_to_delete)\n",
    "    X_val_slim = np.delete(X_val_slim, index_to_delete, axis=0)\n",
    "    \n",
    "    return X_val_slim, y_val_slim"
   ]
  },
  {
   "cell_type": "code",
   "execution_count": 6,
   "metadata": {},
   "outputs": [
    {
     "name": "stdout",
     "output_type": "stream",
     "text": [
      "X_val shape: (5000, 28, 28)\n",
      "y_val shape: (5000,)\n",
      "X_val_slim shape: (485, 28, 28)\n",
      "y_val_slim shape: (485,)\n",
      "X_train_slim shape: (5058, 28, 28)\n",
      "y_train_slim shape: (5058,)\n"
     ]
    }
   ],
   "source": [
    "# we will be training the autoencoder on the \"normal\" class only. All the rest will be labeled as \"anomalous\"\n",
    "# this is how anomaly detection is done in Chalapathy R, 2019 https://arxiv.org/pdf/1802.06360.pdf\n",
    "# I assume this is a good way to do it.... at least I can compare my results to theirs\n",
    "class_normal = 0\n",
    "class_to_remove = [i for i in range(0,10)]\n",
    "class_to_remove.remove(class_normal)\n",
    "class_to_remove = np.array(class_to_remove,dtype='uint8')\n",
    "\n",
    "\n",
    "X_val_slim, y_val_slim = remove_classes(class_to_remove, y_val_slim, X_val_slim)\n",
    "X_train_slim, y_train_slim = remove_classes(class_to_remove, y_train_slim, X_train_slim)\n",
    "\n",
    "print('X_val shape:', X_val.shape)\n",
    "print('y_val shape:', y_val.shape)\n",
    "print('X_val_slim shape:', X_val_slim.shape)\n",
    "print('y_val_slim shape:', y_val_slim.shape)\n",
    "print('X_train_slim shape:', X_train_slim.shape)\n",
    "print('y_train_slim shape:', y_train_slim.shape)"
   ]
  },
  {
   "cell_type": "markdown",
   "metadata": {},
   "source": [
    "## 2.0 Sparse Autoencoder\n",
    "\n",
    "We will build as sparse autoencoder. But first, we will build a vanilla stacked autoencoder as a comparison.\n",
    "\n",
    "Andrew Ng has a good video of what a sparse autoencoder is: https://youtu.be/vfnxKO2rMq4"
   ]
  },
  {
   "cell_type": "code",
   "execution_count": 7,
   "metadata": {},
   "outputs": [],
   "source": [
    "def rounded_accuracy(y_true, y_pred):\n",
    "    return keras.metrics.binary_accuracy(tf.round(y_true), tf.round(y_pred))"
   ]
  },
  {
   "cell_type": "markdown",
   "metadata": {},
   "source": [
    "Note: we are using sigmoid activations so that the activations all end up between 0 and 1. This will make visualizing the activations easier."
   ]
  },
  {
   "cell_type": "code",
   "execution_count": 8,
   "metadata": {},
   "outputs": [],
   "source": [
    "# plot the results\n",
    "def plot_reconstructions(model, index_list, X_valid): \n",
    "    reconstructions = model.predict(X_valid)\n",
    "    \n",
    "    # get the length of index_list to set number of\n",
    "    # images to plot\n",
    "    n_images = len(index_list)\n",
    "\n",
    "    # Plot a random sample\n",
    "    fig, axes = plt.subplots(2, n_images,figsize=(n_images*1.5,3),dpi=150)\n",
    "    # fig.suptitle('Digits for Sample %i' %num, size=15, x=0.2)\n",
    "\n",
    "    for i in range(0, n_images):\n",
    "        axes[0][i].imshow(np.reshape(X_valid[index_list[i],:,:],[28,28]), cmap='Greys_r')\n",
    "        axes[0][i].axis('off')\n",
    "        axes[0][i].set_title(str(index_list[i]))\n",
    "        axes[1][i].imshow(np.reshape(reconstructions[index_list[i],:,:],[28,28]), cmap='Greys_r')\n",
    "        axes[1][i].axis('off')\n",
    "        \n",
    "    plt.show()"
   ]
  },
  {
   "cell_type": "markdown",
   "metadata": {},
   "source": [
    "We want to see how the activations behave with this simple stacked autoencoder.\n",
    "- Using the validation data set, **what is the distribution of activations between 0 and 1?**\n",
    "- Using the validation data set, **what are the average neuron activation values?**"
   ]
  },
  {
   "cell_type": "code",
   "execution_count": 9,
   "metadata": {},
   "outputs": [],
   "source": [
    "# build custom regularizer for KL-Divergence\n",
    "K = keras.backend\n",
    "kl_divergence = keras.losses.kullback_leibler_divergence\n",
    "\n",
    "class KLDivergenceRegularizer(keras.regularizers.Regularizer):\n",
    "    def __init__(self, weight, target=0.1):\n",
    "        self.weight = weight\n",
    "        self.target = target\n",
    "    def __call__(self, inputs):\n",
    "        mean_activities = K.mean(inputs, axis=0)\n",
    "        return self.weight * (\n",
    "            kl_divergence(self.target, mean_activities) +\n",
    "            kl_divergence(1. - self.target, 1. - mean_activities))\n",
    "    \n",
    "def rounded_accuracy(y_true, y_pred):\n",
    "    return keras.metrics.binary_accuracy(tf.round(y_true), tf.round(y_pred))"
   ]
  },
  {
   "cell_type": "code",
   "execution_count": 10,
   "metadata": {},
   "outputs": [
    {
     "name": "stdout",
     "output_type": "stream",
     "text": [
      "Model: \"sequential\"\n",
      "_________________________________________________________________\n",
      "Layer (type)                 Output Shape              Param #   \n",
      "=================================================================\n",
      "flatten (Flatten)            (None, 784)               0         \n",
      "_________________________________________________________________\n",
      "dense (Dense)                (None, 100)               78500     \n",
      "_________________________________________________________________\n",
      "dense_1 (Dense)              (None, 300)               30300     \n",
      "=================================================================\n",
      "Total params: 108,800\n",
      "Trainable params: 108,800\n",
      "Non-trainable params: 0\n",
      "_________________________________________________________________\n",
      "Model: \"sequential_1\"\n",
      "_________________________________________________________________\n",
      "Layer (type)                 Output Shape              Param #   \n",
      "=================================================================\n",
      "dense_2 (Dense)              (None, 100)               30100     \n",
      "_________________________________________________________________\n",
      "dense_3 (Dense)              (None, 784)               79184     \n",
      "_________________________________________________________________\n",
      "reshape (Reshape)            (None, 28, 28)            0         \n",
      "=================================================================\n",
      "Total params: 109,284\n",
      "Trainable params: 109,284\n",
      "Non-trainable params: 0\n",
      "_________________________________________________________________\n"
     ]
    }
   ],
   "source": [
    "tf.random.set_seed(42)\n",
    "np.random.seed(42)\n",
    "\n",
    "kld_reg = KLDivergenceRegularizer(weight=0.05, target=0.1)\n",
    "sparse_kl_encoder = keras.models.Sequential([\n",
    "    keras.layers.Flatten(input_shape=[28, 28]),\n",
    "    keras.layers.Dense(100, activation=\"selu\"),\n",
    "    keras.layers.Dense(300, activation=\"sigmoid\", activity_regularizer=kld_reg)\n",
    "])\n",
    "sparse_kl_decoder = keras.models.Sequential([\n",
    "    keras.layers.Dense(100, activation=\"selu\", input_shape=[300]),\n",
    "    keras.layers.Dense(28 * 28, activation=\"sigmoid\"),\n",
    "    keras.layers.Reshape([28, 28])\n",
    "])\n",
    "sparse_kl_ae = keras.models.Sequential([sparse_kl_encoder, sparse_kl_decoder])\n",
    "sparse_kl_ae.compile(loss=\"binary_crossentropy\", optimizer=keras.optimizers.Adam(),\n",
    "              metrics=[rounded_accuracy])\n",
    "\n",
    "# log_dir=\"logs/\" + str('anom_') + datetime.datetime.now().strftime(\"%Y%m%d-%H%M%S\")\n",
    "# tensorboard_callback = tf.keras.callbacks.TensorBoard(log_dir=log_dir, histogram_freq=0,\n",
    "#                                                       update_freq='epoch',profile_batch=0)\n",
    "\n",
    "sparse_kl_encoder.summary()\n",
    "sparse_kl_decoder.summary()\n",
    "\n"
   ]
  },
  {
   "cell_type": "code",
   "execution_count": 11,
   "metadata": {},
   "outputs": [
    {
     "name": "stdout",
     "output_type": "stream",
     "text": [
      "Train on 5058 samples, validate on 485 samples\n",
      "Epoch 1/5\n",
      "5058/5058 [==============================] - 2s 312us/sample - loss: 0.4361 - rounded_accuracy: 0.8386 - val_loss: 0.3867 - val_rounded_accuracy: 0.8636\n",
      "Epoch 2/5\n",
      "5058/5058 [==============================] - 0s 93us/sample - loss: 0.3744 - rounded_accuracy: 0.8920 - val_loss: 0.3748 - val_rounded_accuracy: 0.8846\n",
      "Epoch 3/5\n",
      "5058/5058 [==============================] - 0s 92us/sample - loss: 0.3658 - rounded_accuracy: 0.8987 - val_loss: 0.3613 - val_rounded_accuracy: 0.9012\n",
      "Epoch 4/5\n",
      "5058/5058 [==============================] - 0s 92us/sample - loss: 0.3574 - rounded_accuracy: 0.9048 - val_loss: 0.3645 - val_rounded_accuracy: 0.8906\n",
      "Epoch 5/5\n",
      "5058/5058 [==============================] - 0s 92us/sample - loss: 0.3553 - rounded_accuracy: 0.9057 - val_loss: 0.3478 - val_rounded_accuracy: 0.9067\n"
     ]
    }
   ],
   "source": [
    "# use tensorboard to track training\n",
    "log_dir=\"logs/\" + datetime.datetime.now().strftime(\"%Y%m%d-%H%M%S\")\n",
    "tensorboard_callback = tf.keras.callbacks.TensorBoard(log_dir=log_dir, \n",
    "                                                      histogram_freq=0,\n",
    "                                                      update_freq='epoch',\n",
    "                                                      profile_batch=0)\n",
    "\n",
    "earlystop_callback = tf.keras.callbacks.EarlyStopping(monitor='loss',\n",
    "                                                      patience=4, \n",
    "                                                      restore_best_weights=True)\n",
    "\n",
    "history = sparse_kl_ae.fit(X_train_slim, X_train_slim, epochs=5,\n",
    "                           validation_data=[X_val_slim, X_val_slim], callbacks=[])"
   ]
  },
  {
   "cell_type": "code",
   "execution_count": 12,
   "metadata": {},
   "outputs": [
    {
     "data": {
      "image/png": "[encoded data removed]",
      "text/plain": [
       "<Figure size 2250x450 with 20 Axes>"
      ]
     },
     "metadata": {
      "needs_background": "light"
     },
     "output_type": "display_data"
    }
   ],
   "source": [
    "# plot a random number of items\n",
    "import random\n",
    "index_list = random.sample(range(0,len(X_val_slim)), 10)\n",
    "\n",
    "plot_reconstructions(sparse_kl_ae, index_list, X_val_slim)"
   ]
  },
  {
   "cell_type": "code",
   "execution_count": 64,
   "metadata": {},
   "outputs": [
    {
     "data": {
      "text/plain": [
       "(485, 28, 28)"
      ]
     },
     "execution_count": 64,
     "metadata": {},
     "output_type": "execute_result"
    }
   ],
   "source": [
    "recon_val_slim = sparse_kl_ae(X_val_slim).numpy()\n",
    "recon_val_slim.shape"
   ]
  },
  {
   "cell_type": "code",
   "execution_count": 139,
   "metadata": {},
   "outputs": [],
   "source": [
    "from sklearn.metrics import confusion_matrix, roc_auc_score, roc_curve\n",
    "\n",
    "# build a table with all the RMSE results from the reconstructions\n",
    "# sewar is a package that has many image quality assement algos already developed,\n",
    "# and it can be used as a good guide https://github.com/andrewekhalel/sewar\n",
    "# However, we will calculate the RMSE across the whole numpy array and then\n",
    "# put these in a pandas dataframe\n",
    "\n",
    "def mse(X_val,recon_val):\n",
    "    \"\"\"Calculate MSE for images in X_val and recon_val\"\"\"\n",
    "    \n",
    "    # need to calculate mean across the rows, and then across the columns\n",
    "    return np.mean(np.mean(np.square(X_val.astype('float32') - recon_val.astype('float32')),axis=1),axis=1)\n",
    "\n",
    "def rmse(X_val,recon_val):\n",
    "    \"\"\"Calculate RMSE for images in X_val and recon_val\"\"\"\n",
    "    return np.sqrt(mse(X_val, recon_val))\n",
    "\n",
    "def euclidean_distance(X_val,recon_val):\n",
    "    dist = np.linalg.norm(X_val - recon_val,axis=(1,2))\n",
    "    return dist\n",
    "\n",
    "# function that creates a pandas dataframe with the RMSE value, and the associated class\n",
    "def create_df_reconstruction(rmse_val, y_val, metric, class_to_remove, threshold_val):\n",
    "    df = pd.DataFrame(data=rmse_val, columns=[metric])\n",
    "    \n",
    "    # append the class values\n",
    "    df['class'] = y_val\n",
    "    \n",
    "    # label anomolous (outlier) data as -1, inliers as 1\n",
    "        # -1 (outlier) is POSITIVE class\n",
    "        #  1 (inlier) is NEGATIVE class\n",
    "    new_y_val = []\n",
    "    for i in y_val:\n",
    "        if i in class_to_remove:\n",
    "            new_y_val.append(-1)\n",
    "        else:\n",
    "            new_y_val.append(1)\n",
    "    \n",
    "    df['true_class'] = new_y_val\n",
    "    \n",
    "    # add prediction based on threshold\n",
    "    df['prediction'] = np.where(df[metric] >= threshold_val,-1,1)\n",
    "    \n",
    "    return df\n",
    "\n",
    "def threshold_grid_search(lower_bound, upper_bound, y_val, class_to_remove, method_recon_val):\n",
    "    '''Simple grid search for finding the best threshold'''\n",
    "    \n",
    "    roc_scores = {}\n",
    "    for i in np.arange(lower_bound, upper_bound, (np.abs(upper_bound-lower_bound) / 10)):\n",
    "        print(i)\n",
    "        \n",
    "        threshold_val = i\n",
    "        df = create_df_reconstruction(method_recon_val, y_val, \"recon_metric\",class_to_remove, threshold_val)\n",
    "        roc_val = roc_auc_score(df['true_class'], df['prediction'])\n",
    "        roc_scores[i] = roc_val\n",
    "\n",
    "    # return best roc_score and the threshold used to set it\n",
    "    threshold_val = max(zip(roc_scores.values(), roc_scores.keys()))\n",
    "    print('Best threshold value:', threshold_val[1],'\\tROC score: {:.2%}'.format(threshold_val[0]))\n",
    "\n",
    "    # use the best threshold value to make a confusion matrix\n",
    "    df_results = create_df_reconstruction(method_recon_val, y_val, \"recon_metric\",class_to_remove, threshold_val[1])\n",
    "    \n",
    "    print('\\nConfusion Matrix:')\n",
    "    print(confusion_matrix(df['true_class'], df['prediction']))\n",
    "    \n",
    "    fig, ax = plt.subplots(figsize=(10,8))\n",
    "    df.boxplot(column=['recon_metric'], by='class', ax=ax).axhline(y=threshold_val[1],c='red',alpha=0.7)\n",
    "    plt.title('Boxplots of MSE for X_valid, by Class')\n",
    "    plt.suptitle('')\n",
    "    plt.show()\n",
    "\n",
    "        \n",
    "# function to test the different reconstruction methods (mse, rmse, euclidean)\n",
    "# do a grid search looking for the best threshold, and then outputting the results\n",
    "def compare_select_method(model, X_val, y_val, X_val_slim, y_val_slim, class_to_remove):\n",
    "    '''Function to test the different reconstruction methods (mse, rmse, euclidean) \n",
    "    \n",
    "    Parameters\n",
    "    ===========\n",
    "    model : tensorflow model\n",
    "        autoencoder model that was trained on the \"slim\" data set.\n",
    "        Will be used to build reconstructions\n",
    "    \n",
    "    X_val : ndarray\n",
    "        tensor of the X validation set\n",
    "        \n",
    "    class_to_remove : ndarray\n",
    "        numpy array of the classes to remove from the X_val and y_val data\n",
    "    '''\n",
    "    \n",
    "    # build the reconstructions on the X_val_slim dataset, and the X_val dataset\n",
    "    recon_val_slim = model(X_val_slim).numpy()\n",
    "    recon_val = model(X_val).numpy()\n",
    "        \n",
    "    # run through each of the reconstruction error methods, perform a little grid search\n",
    "    # to find the optimum value\n",
    "    \n",
    "    #_______MSE_______#\n",
    "    # calculate MSE reconstruction error\n",
    "    mse_recon_val_slim = mse(X_val_slim, recon_val_slim) # for slim dataset\n",
    "    mse_recon_val = mse(X_val, recon_val) # for complete validation dataset\n",
    "    print('Max MSE on val_slim:\\t\\t\\t',np.max(mse_recon_val_slim))\n",
    "    print('90th MSE percentile on val_slim:\\t', np.percentile(mse_recon_val_slim,90))\n",
    "    \n",
    "    lower_bound = 0\n",
    "    upper_bound = 0.09\n",
    "    \n",
    "    df_results = threshold_grid_search(lower_bound,\n",
    "                          upper_bound, \n",
    "                          y_val, \n",
    "                          class_to_remove, \n",
    "                          mse_recon_val) \n",
    "    return df_results"
   ]
  },
  {
   "cell_type": "code",
   "execution_count": 40,
   "metadata": {},
   "outputs": [],
   "source": [
    "class SelectModel:\n",
    "    \n",
    "    def __init__(self, model, X_val, y_val, X_val_slim, class_to_remove):\n",
    "        \n",
    "        self.model = model\n",
    "        self.X_val = X_val\n",
    "        self.y_val = y_val\n",
    "        self.X_val_slim = X_val_slim\n",
    "        self.class_to_remove = class_to_remove\n",
    "        \n",
    "        print(np.shape(self.X_val))\n",
    "        \n",
    "        # build the reconstructions on the X_val_slim dataset, and the X_val dataset\n",
    "        self.recon_val_slim = self.model(self.X_val_slim).numpy()\n",
    "        self.recon_val = self.model(self.X_val).numpy()\n",
    "        \n",
    "    def mse(self):\n",
    "        \"\"\"Calculate MSE for images in X_val and recon_val\"\"\"\n",
    "        # need to calculate mean across the rows, and then across the columns\n",
    "        return np.mean(np.mean(np.square(self.X_val - self.recon_val),axis=1),axis=1)\n",
    "\n",
    "    def rmse(self):\n",
    "        \"\"\"Calculate RMSE for images in X_val and recon_val\"\"\"\n",
    "        return np.sqrt(self.mse(self.X_val, self.recon_val))\n",
    "\n",
    "    def euclidean_distance(self):\n",
    "        dist = np.linalg.norm(self.X_val - self.recon_val,axis=(1,2))\n",
    "        return dist\n",
    "    \n",
    "    # function that creates a pandas dataframe with the RMSE value, and the associated class\n",
    "    def create_df_reconstruction(self, reconstruction_error_val, threshold_val):\n",
    "        df = pd.DataFrame(data=reconstruction_error_val, columns=[\"metric\"])\n",
    "\n",
    "        # append the class values\n",
    "        df['class'] = self.y_val\n",
    "\n",
    "        # label anomolous (outlier) data as -1, inliers as 1\n",
    "            # -1 (outlier) is POSITIVE class\n",
    "            #  1 (inlier) is NEGATIVE class\n",
    "        new_y_val = []\n",
    "        for i in self.y_val:\n",
    "            if i in class_to_remove:\n",
    "                new_y_val.append(-1)\n",
    "            else:\n",
    "                new_y_val.append(1)\n",
    "\n",
    "        df['true_class'] = new_y_val\n",
    "\n",
    "        # add prediction based on threshold\n",
    "        df['prediction'] = np.where(df['metric'] >= threshold_val,-1,1)\n",
    "\n",
    "        return df\n",
    "    \n",
    "    def threshold_grid_search(self, lower_bound, upper_bound, reconstruction_error_val):\n",
    "        '''Simple grid search for finding the best threshold'''\n",
    "    \n",
    "        roc_scores = {}\n",
    "        for i in np.arange(lower_bound, upper_bound, (np.abs(upper_bound-lower_bound) / 10)):\n",
    "            print(i)\n",
    "\n",
    "            threshold_val = i\n",
    "            df = self.create_df_reconstruction(reconstruction_error_val, \n",
    "                                          threshold_val)\n",
    "            roc_val = roc_auc_score(df['true_class'], df['prediction'])\n",
    "            roc_scores[i] = roc_val\n",
    "\n",
    "        # return best roc_score and the threshold used to set it\n",
    "        threshold_val = max(zip(roc_scores.values(), roc_scores.keys()))\n",
    "        print('Best threshold value:', threshold_val[1],'\\tROC score: {:.2%}'.format(threshold_val[0]))\n",
    "\n",
    "        # use the best threshold value to make a confusion matrix\n",
    "        df = self.create_df_reconstruction(reconstruction_error_val, threshold_val[1])\n",
    "\n",
    "        print('\\nConfusion Matrix:')\n",
    "        print(confusion_matrix(df['true_class'], df['prediction']))\n",
    "\n",
    "        fig, ax = plt.subplots(figsize=(10,8))\n",
    "        df.boxplot(column=['metric'], by='class', ax=ax).axhline(y=threshold_val[1],c='red',alpha=0.7)\n",
    "        plt.title('Boxplots of MSE for X_valid, by Class')\n",
    "        plt.suptitle('')\n",
    "        plt.show()\n",
    "        return df\n",
    "        \n",
    "    # function to test the different reconstruction methods (mse, rmse, euclidean)\n",
    "    # do a grid search looking for the best threshold, and then outputting the results\n",
    "    def compare_select_method(self):\n",
    "        '''Function to test the different reconstruction methods (mse, rmse, euclidean) \n",
    "\n",
    "        Parameters\n",
    "        ===========\n",
    "        model : tensorflow model\n",
    "            autoencoder model that was trained on the \"slim\" data set.\n",
    "            Will be used to build reconstructions\n",
    "\n",
    "        X_val : ndarray\n",
    "            tensor of the X validation set\n",
    "\n",
    "        class_to_remove : ndarray\n",
    "            numpy array of the classes to remove from the X_val and y_val data\n",
    "        '''\n",
    "\n",
    "        # build the reconstructions on the X_val_slim dataset, and the X_val dataset\n",
    "        recon_val_slim = self.model(self.X_val_slim).numpy()\n",
    "        recon_val = self.model(self.X_val).numpy()\n",
    "\n",
    "        # run through each of the reconstruction error methods, perform a little grid search\n",
    "        # to find the optimum value\n",
    "\n",
    "        #_______MSE_______#\n",
    "        # calculate MSE reconstruction error\n",
    "        mse_recon_val_slim = self.mse() # for slim dataset\n",
    "        mse_recon_val = self.mse() # for complete validation dataset\n",
    "        print('Max MSE on val_slim:\\t\\t\\t',np.max(mse_recon_val_slim))\n",
    "        print('90th MSE percentile on val_slim:\\t', np.percentile(mse_recon_val_slim,90))\n",
    "\n",
    "        lower_bound = 0\n",
    "        upper_bound = 0.09\n",
    "\n",
    "        df_results = self.threshold_grid_search(lower_bound,\n",
    "                              upper_bound, \n",
    "                              mse_recon_val) \n",
    "        print(df_results.head())\n",
    "        \n",
    "        return df_results"
   ]
  },
  {
   "cell_type": "code",
   "execution_count": 45,
   "metadata": {},
   "outputs": [
    {
     "name": "stdout",
     "output_type": "stream",
     "text": [
      "(5000, 28, 28)\n"
     ]
    }
   ],
   "source": [
    "model = SelectModel(sparse_kl_ae, X_val, y_val, X_val_slim, class_to_remove)"
   ]
  },
  {
   "cell_type": "code",
   "execution_count": 46,
   "metadata": {},
   "outputs": [
    {
     "name": "stdout",
     "output_type": "stream",
     "text": [
      "Max MSE on val_slim:\t\t\t 0.1884192\n",
      "90th MSE percentile on val_slim:\t 0.09944934621453286\n",
      "0.0\n",
      "0.009\n",
      "0.018\n",
      "0.026999999999999996\n",
      "0.036\n",
      "0.045\n",
      "0.05399999999999999\n",
      "0.063\n",
      "0.072\n",
      "0.08099999999999999\n",
      "Best threshold value: 0.026999999999999996 \tROC score: 82.58%\n",
      "\n",
      "Confusion Matrix:\n",
      "[[3915  628]\n",
      " [  96  361]]\n"
     ]
    },
    {
     "data": {
      "image/png": "[encoded data removed]",
      "text/plain": [
       "<Figure size 720x576 with 1 Axes>"
      ]
     },
     "metadata": {
      "needs_background": "light"
     },
     "output_type": "display_data"
    },
    {
     "name": "stdout",
     "output_type": "stream",
     "text": [
      "     metric  class  true_class  prediction\n",
      "0  0.115440      9          -1          -1\n",
      "1  0.026221      0           1           1\n",
      "2  0.010559      0           1           1\n",
      "3  0.018203      3          -1           1\n",
      "4  0.030204      0           1          -1\n"
     ]
    }
   ],
   "source": [
    "df = model.compare_select_method()"
   ]
  },
  {
   "cell_type": "code",
   "execution_count": 43,
   "metadata": {},
   "outputs": [
    {
     "data": {
      "text/html": [
       "<div>\n",
       "<style scoped>\n",
       "    .dataframe tbody tr th:only-of-type {\n",
       "        vertical-align: middle;\n",
       "    }\n",
       "\n",
       "    .dataframe tbody tr th {\n",
       "        vertical-align: top;\n",
       "    }\n",
       "\n",
       "    .dataframe thead th {\n",
       "        text-align: right;\n",
       "    }\n",
       "</style>\n",
       "<table border=\"1\" class=\"dataframe\">\n",
       "  <thead>\n",
       "    <tr style=\"text-align: right;\">\n",
       "      <th></th>\n",
       "      <th>metric</th>\n",
       "      <th>class</th>\n",
       "      <th>true_class</th>\n",
       "      <th>prediction</th>\n",
       "    </tr>\n",
       "  </thead>\n",
       "  <tbody>\n",
       "    <tr>\n",
       "      <td>0</td>\n",
       "      <td>0.115440</td>\n",
       "      <td>9</td>\n",
       "      <td>-1</td>\n",
       "      <td>-1</td>\n",
       "    </tr>\n",
       "    <tr>\n",
       "      <td>1</td>\n",
       "      <td>0.026221</td>\n",
       "      <td>0</td>\n",
       "      <td>1</td>\n",
       "      <td>1</td>\n",
       "    </tr>\n",
       "    <tr>\n",
       "      <td>2</td>\n",
       "      <td>0.010559</td>\n",
       "      <td>0</td>\n",
       "      <td>1</td>\n",
       "      <td>1</td>\n",
       "    </tr>\n",
       "    <tr>\n",
       "      <td>3</td>\n",
       "      <td>0.018203</td>\n",
       "      <td>3</td>\n",
       "      <td>-1</td>\n",
       "      <td>1</td>\n",
       "    </tr>\n",
       "    <tr>\n",
       "      <td>4</td>\n",
       "      <td>0.030204</td>\n",
       "      <td>0</td>\n",
       "      <td>1</td>\n",
       "      <td>-1</td>\n",
       "    </tr>\n",
       "  </tbody>\n",
       "</table>\n",
       "</div>"
      ],
      "text/plain": [
       "     metric  class  true_class  prediction\n",
       "0  0.115440      9          -1          -1\n",
       "1  0.026221      0           1           1\n",
       "2  0.010559      0           1           1\n",
       "3  0.018203      3          -1           1\n",
       "4  0.030204      0           1          -1"
      ]
     },
     "execution_count": 43,
     "metadata": {},
     "output_type": "execute_result"
    }
   ],
   "source": [
    "df.head()"
   ]
  },
  {
   "cell_type": "code",
   "execution_count": 140,
   "metadata": {},
   "outputs": [
    {
     "name": "stdout",
     "output_type": "stream",
     "text": [
      "Max MSE on val_slim:\t\t\t 0.096097164\n",
      "90th MSE percentile on val_slim:\t 0.03584753125905991\n",
      "0.0\n",
      "0.009\n",
      "0.018\n",
      "0.026999999999999996\n",
      "0.036\n",
      "0.045\n",
      "0.05399999999999999\n",
      "0.063\n",
      "0.072\n",
      "0.08099999999999999\n",
      "Best threshold value: 0.0 \tROC score: 50.00%\n",
      "\n",
      "Confusion Matrix:\n",
      "[[  57  904]\n",
      " [ 872 3167]]\n"
     ]
    },
    {
     "data": {
      "image/png": "[encoded data removed]",
      "text/plain": [
       "<Figure size 720x576 with 1 Axes>"
      ]
     },
     "metadata": {
      "needs_background": "light"
     },
     "output_type": "display_data"
    }
   ],
   "source": [
    "df_results = compare_select_method(sparse_kl_ae, X_val, y_val, X_val_slim, y_val_slim, class_to_remove)"
   ]
  },
  {
   "cell_type": "code",
   "execution_count": 138,
   "metadata": {},
   "outputs": [
    {
     "data": {
      "text/html": [
       "<div>\n",
       "<style scoped>\n",
       "    .dataframe tbody tr th:only-of-type {\n",
       "        vertical-align: middle;\n",
       "    }\n",
       "\n",
       "    .dataframe tbody tr th {\n",
       "        vertical-align: top;\n",
       "    }\n",
       "\n",
       "    .dataframe thead th {\n",
       "        text-align: right;\n",
       "    }\n",
       "</style>\n",
       "<table border=\"1\" class=\"dataframe\">\n",
       "  <thead>\n",
       "    <tr style=\"text-align: right;\">\n",
       "      <th></th>\n",
       "      <th>recon_metric</th>\n",
       "      <th>class</th>\n",
       "      <th>true_class</th>\n",
       "      <th>prediction</th>\n",
       "    </tr>\n",
       "  </thead>\n",
       "  <tbody>\n",
       "    <tr>\n",
       "      <td>0</td>\n",
       "      <td>0.115437</td>\n",
       "      <td>9</td>\n",
       "      <td>1</td>\n",
       "      <td>-1</td>\n",
       "    </tr>\n",
       "    <tr>\n",
       "      <td>1</td>\n",
       "      <td>0.026222</td>\n",
       "      <td>0</td>\n",
       "      <td>-1</td>\n",
       "      <td>-1</td>\n",
       "    </tr>\n",
       "    <tr>\n",
       "      <td>2</td>\n",
       "      <td>0.010560</td>\n",
       "      <td>0</td>\n",
       "      <td>-1</td>\n",
       "      <td>-1</td>\n",
       "    </tr>\n",
       "    <tr>\n",
       "      <td>3</td>\n",
       "      <td>0.018204</td>\n",
       "      <td>3</td>\n",
       "      <td>1</td>\n",
       "      <td>-1</td>\n",
       "    </tr>\n",
       "    <tr>\n",
       "      <td>4</td>\n",
       "      <td>0.030204</td>\n",
       "      <td>0</td>\n",
       "      <td>-1</td>\n",
       "      <td>-1</td>\n",
       "    </tr>\n",
       "  </tbody>\n",
       "</table>\n",
       "</div>"
      ],
      "text/plain": [
       "   recon_metric  class  true_class  prediction\n",
       "0      0.115437      9           1          -1\n",
       "1      0.026222      0          -1          -1\n",
       "2      0.010560      0          -1          -1\n",
       "3      0.018204      3           1          -1\n",
       "4      0.030204      0          -1          -1"
      ]
     },
     "execution_count": 138,
     "metadata": {},
     "output_type": "execute_result"
    }
   ],
   "source": [
    "df_results.head()"
   ]
  },
  {
   "cell_type": "code",
   "execution_count": 142,
   "metadata": {},
   "outputs": [
    {
     "name": "stdout",
     "output_type": "stream",
     "text": [
      "0.096097164\n",
      "0.03584753125905991\n"
     ]
    }
   ],
   "source": [
    "# get the reconstructions on the X_val_slim dataset, and the X_val dataset\n",
    "recon_val_slim = sparse_kl_ae(X_val_slim).numpy()\n",
    "recon_val = sparse_kl_ae(X_val).numpy()\n",
    "\n",
    "# calculate MSE reconstruction error\n",
    "mse_recon_val_slim = mse(X_val_slim, recon_val_slim) # for slim dataset\n",
    "mse_recon_val = mse(X_val, recon_val) # for complete validation dataset\n",
    "\n",
    "# look at the maximum reconstruction error, and the 90th percentile\n",
    "print(np.max(mse_recon_val_slim))\n",
    "print(np.percentile(mse_recon_val_slim,90))"
   ]
  },
  {
   "cell_type": "code",
   "execution_count": 143,
   "metadata": {},
   "outputs": [
    {
     "name": "stdout",
     "output_type": "stream",
     "text": [
      "Best threshold value: 0.2 \tROC score: 50.00%\n",
      "\n",
      "True Positive: 0\n",
      "False Positive: 0\n",
      "True Negative: 4039\n",
      "False Negative: 961\n",
      "\n",
      "Confusion Matrix:\n",
      "[[   0  961]\n",
      " [   0 4039]]\n"
     ]
    },
    {
     "data": {
      "image/png": "[encoded data removed]",
      "text/plain": [
       "<Figure size 720x576 with 1 Axes>"
      ]
     },
     "metadata": {
      "needs_background": "light"
     },
     "output_type": "display_data"
    }
   ],
   "source": [
    "from sklearn.metrics import confusion_matrix, roc_auc_score, roc_curve\n",
    "\n",
    "roc_scores = {}\n",
    "# for i in np.arange(0.1, 150, 0.5):\n",
    "for i in np.arange(0.0001, 0.2, 0.0001):\n",
    "     \n",
    "    threshold_val = i\n",
    "    df = create_df_reconstruction(mse_recon_val, y_val, \"recon_metric\",class_to_remove, threshold_val)\n",
    "    roc_val = roc_auc_score(df['true_class'], df['prediction'])\n",
    "    roc_scores[i] = roc_val\n",
    "\n",
    "# return best roc_score and the threshold used to set it\n",
    "threshold_val_mse = max(zip(roc_scores.values(), roc_scores.keys()))\n",
    "print('Best threshold value:', threshold_val_mse[1],'\\tROC score: {:.2%}'.format(threshold_val_mse[0]))\n",
    "\n",
    "# use the best threshold value to make a confusion matrix\n",
    "df = create_df_reconstruction(mse_recon_val, y_val, \"recon_metric\",class_to_remove, threshold_val_mse[1])\n",
    "\n",
    "\n",
    "# True Positive\n",
    "print(\"\\nTrue Positive:\",len(df[(df['true_class']==-1) & (df['prediction']==-1)]))\n",
    "# False Positive -- predict anomaly (-1), when it is actually normal (1)\n",
    "print(\"False Positive:\",len(df[(df['true_class']==1) & (df['prediction']==-1)]))\n",
    "# True Negative\n",
    "print(\"True Negative:\",len(df[(df['true_class']==1) & (df['prediction']==1)]))\n",
    "#False Negative\n",
    "print(\"False Negative:\",len(df[(df['true_class']==-1) & (df['prediction']==1)]))\n",
    "\n",
    "print('\\nConfusion Matrix:')\n",
    "print(confusion_matrix(df['true_class'], df['prediction']))\n",
    "\n",
    "fig, ax = plt.subplots(figsize=(10,8))\n",
    "df.boxplot(column=['recon_metric'], by='class', ax=ax).axhline(y=threshold_val_mse[1],c='red',alpha=0.7)\n",
    "plt.title('Boxplots of MSE for X_valid, by Class')\n",
    "plt.suptitle('')\n",
    "plt.show()"
   ]
  },
  {
   "cell_type": "code",
   "execution_count": 144,
   "metadata": {},
   "outputs": [
    {
     "data": {
      "text/html": [
       "<div>\n",
       "<style scoped>\n",
       "    .dataframe tbody tr th:only-of-type {\n",
       "        vertical-align: middle;\n",
       "    }\n",
       "\n",
       "    .dataframe tbody tr th {\n",
       "        vertical-align: top;\n",
       "    }\n",
       "\n",
       "    .dataframe thead th {\n",
       "        text-align: right;\n",
       "    }\n",
       "</style>\n",
       "<table border=\"1\" class=\"dataframe\">\n",
       "  <thead>\n",
       "    <tr style=\"text-align: right;\">\n",
       "      <th></th>\n",
       "      <th>recon_metric</th>\n",
       "      <th>class</th>\n",
       "      <th>true_class</th>\n",
       "      <th>prediction</th>\n",
       "    </tr>\n",
       "  </thead>\n",
       "  <tbody>\n",
       "    <tr>\n",
       "      <td>0</td>\n",
       "      <td>0.115437</td>\n",
       "      <td>9</td>\n",
       "      <td>1</td>\n",
       "      <td>1</td>\n",
       "    </tr>\n",
       "    <tr>\n",
       "      <td>1</td>\n",
       "      <td>0.026222</td>\n",
       "      <td>0</td>\n",
       "      <td>-1</td>\n",
       "      <td>1</td>\n",
       "    </tr>\n",
       "    <tr>\n",
       "      <td>2</td>\n",
       "      <td>0.010560</td>\n",
       "      <td>0</td>\n",
       "      <td>-1</td>\n",
       "      <td>1</td>\n",
       "    </tr>\n",
       "    <tr>\n",
       "      <td>3</td>\n",
       "      <td>0.018204</td>\n",
       "      <td>3</td>\n",
       "      <td>1</td>\n",
       "      <td>1</td>\n",
       "    </tr>\n",
       "    <tr>\n",
       "      <td>4</td>\n",
       "      <td>0.030204</td>\n",
       "      <td>0</td>\n",
       "      <td>-1</td>\n",
       "      <td>1</td>\n",
       "    </tr>\n",
       "    <tr>\n",
       "      <td>...</td>\n",
       "      <td>...</td>\n",
       "      <td>...</td>\n",
       "      <td>...</td>\n",
       "      <td>...</td>\n",
       "    </tr>\n",
       "    <tr>\n",
       "      <td>4995</td>\n",
       "      <td>0.087705</td>\n",
       "      <td>7</td>\n",
       "      <td>1</td>\n",
       "      <td>1</td>\n",
       "    </tr>\n",
       "    <tr>\n",
       "      <td>4996</td>\n",
       "      <td>0.035804</td>\n",
       "      <td>6</td>\n",
       "      <td>1</td>\n",
       "      <td>1</td>\n",
       "    </tr>\n",
       "    <tr>\n",
       "      <td>4997</td>\n",
       "      <td>0.041211</td>\n",
       "      <td>5</td>\n",
       "      <td>1</td>\n",
       "      <td>1</td>\n",
       "    </tr>\n",
       "    <tr>\n",
       "      <td>4998</td>\n",
       "      <td>0.090357</td>\n",
       "      <td>8</td>\n",
       "      <td>1</td>\n",
       "      <td>1</td>\n",
       "    </tr>\n",
       "    <tr>\n",
       "      <td>4999</td>\n",
       "      <td>0.022159</td>\n",
       "      <td>3</td>\n",
       "      <td>1</td>\n",
       "      <td>1</td>\n",
       "    </tr>\n",
       "  </tbody>\n",
       "</table>\n",
       "<p>5000 rows × 4 columns</p>\n",
       "</div>"
      ],
      "text/plain": [
       "      recon_metric  class  true_class  prediction\n",
       "0         0.115437      9           1           1\n",
       "1         0.026222      0          -1           1\n",
       "2         0.010560      0          -1           1\n",
       "3         0.018204      3           1           1\n",
       "4         0.030204      0          -1           1\n",
       "...            ...    ...         ...         ...\n",
       "4995      0.087705      7           1           1\n",
       "4996      0.035804      6           1           1\n",
       "4997      0.041211      5           1           1\n",
       "4998      0.090357      8           1           1\n",
       "4999      0.022159      3           1           1\n",
       "\n",
       "[5000 rows x 4 columns]"
      ]
     },
     "execution_count": 144,
     "metadata": {},
     "output_type": "execute_result"
    }
   ],
   "source": [
    "df"
   ]
  },
  {
   "cell_type": "code",
   "execution_count": 147,
   "metadata": {},
   "outputs": [],
   "source": [
    "df1=create_df_reconstruction(mse_recon_val, y_val, 'rmse', class_to_remove, 0.1)"
   ]
  },
  {
   "cell_type": "code",
   "execution_count": 148,
   "metadata": {},
   "outputs": [
    {
     "data": {
      "text/html": [
       "<div>\n",
       "<style scoped>\n",
       "    .dataframe tbody tr th:only-of-type {\n",
       "        vertical-align: middle;\n",
       "    }\n",
       "\n",
       "    .dataframe tbody tr th {\n",
       "        vertical-align: top;\n",
       "    }\n",
       "\n",
       "    .dataframe thead th {\n",
       "        text-align: right;\n",
       "    }\n",
       "</style>\n",
       "<table border=\"1\" class=\"dataframe\">\n",
       "  <thead>\n",
       "    <tr style=\"text-align: right;\">\n",
       "      <th></th>\n",
       "      <th>rmse</th>\n",
       "      <th>class</th>\n",
       "      <th>true_class</th>\n",
       "      <th>prediction</th>\n",
       "    </tr>\n",
       "  </thead>\n",
       "  <tbody>\n",
       "    <tr>\n",
       "      <td>0</td>\n",
       "      <td>0.115437</td>\n",
       "      <td>9</td>\n",
       "      <td>-1</td>\n",
       "      <td>-1</td>\n",
       "    </tr>\n",
       "    <tr>\n",
       "      <td>1</td>\n",
       "      <td>0.026222</td>\n",
       "      <td>0</td>\n",
       "      <td>1</td>\n",
       "      <td>1</td>\n",
       "    </tr>\n",
       "    <tr>\n",
       "      <td>2</td>\n",
       "      <td>0.010560</td>\n",
       "      <td>0</td>\n",
       "      <td>1</td>\n",
       "      <td>1</td>\n",
       "    </tr>\n",
       "    <tr>\n",
       "      <td>3</td>\n",
       "      <td>0.018204</td>\n",
       "      <td>3</td>\n",
       "      <td>-1</td>\n",
       "      <td>1</td>\n",
       "    </tr>\n",
       "    <tr>\n",
       "      <td>4</td>\n",
       "      <td>0.030204</td>\n",
       "      <td>0</td>\n",
       "      <td>1</td>\n",
       "      <td>1</td>\n",
       "    </tr>\n",
       "    <tr>\n",
       "      <td>...</td>\n",
       "      <td>...</td>\n",
       "      <td>...</td>\n",
       "      <td>...</td>\n",
       "      <td>...</td>\n",
       "    </tr>\n",
       "    <tr>\n",
       "      <td>4995</td>\n",
       "      <td>0.087705</td>\n",
       "      <td>7</td>\n",
       "      <td>-1</td>\n",
       "      <td>1</td>\n",
       "    </tr>\n",
       "    <tr>\n",
       "      <td>4996</td>\n",
       "      <td>0.035804</td>\n",
       "      <td>6</td>\n",
       "      <td>-1</td>\n",
       "      <td>1</td>\n",
       "    </tr>\n",
       "    <tr>\n",
       "      <td>4997</td>\n",
       "      <td>0.041211</td>\n",
       "      <td>5</td>\n",
       "      <td>-1</td>\n",
       "      <td>1</td>\n",
       "    </tr>\n",
       "    <tr>\n",
       "      <td>4998</td>\n",
       "      <td>0.090357</td>\n",
       "      <td>8</td>\n",
       "      <td>-1</td>\n",
       "      <td>1</td>\n",
       "    </tr>\n",
       "    <tr>\n",
       "      <td>4999</td>\n",
       "      <td>0.022159</td>\n",
       "      <td>3</td>\n",
       "      <td>-1</td>\n",
       "      <td>1</td>\n",
       "    </tr>\n",
       "  </tbody>\n",
       "</table>\n",
       "<p>5000 rows × 4 columns</p>\n",
       "</div>"
      ],
      "text/plain": [
       "          rmse  class  true_class  prediction\n",
       "0     0.115437      9          -1          -1\n",
       "1     0.026222      0           1           1\n",
       "2     0.010560      0           1           1\n",
       "3     0.018204      3          -1           1\n",
       "4     0.030204      0           1           1\n",
       "...        ...    ...         ...         ...\n",
       "4995  0.087705      7          -1           1\n",
       "4996  0.035804      6          -1           1\n",
       "4997  0.041211      5          -1           1\n",
       "4998  0.090357      8          -1           1\n",
       "4999  0.022159      3          -1           1\n",
       "\n",
       "[5000 rows x 4 columns]"
      ]
     },
     "execution_count": 148,
     "metadata": {},
     "output_type": "execute_result"
    }
   ],
   "source": [
    "df1"
   ]
  },
  {
   "cell_type": "code",
   "execution_count": 149,
   "metadata": {},
   "outputs": [
    {
     "data": {
      "text/plain": [
       "array([[ 488, 4055],\n",
       "       [   1,  456]])"
      ]
     },
     "execution_count": 149,
     "metadata": {},
     "output_type": "execute_result"
    }
   ],
   "source": [
    "confusion_matrix(df1['true_class'], df1['prediction'])"
   ]
  },
  {
   "cell_type": "code",
   "execution_count": 150,
   "metadata": {},
   "outputs": [
    {
     "data": {
      "text/plain": [
       "0.5526149109578253"
      ]
     },
     "execution_count": 150,
     "metadata": {},
     "output_type": "execute_result"
    }
   ],
   "source": [
    "roc_auc_score(df1['true_class'], df1['prediction'])"
   ]
  },
  {
   "cell_type": "code",
   "execution_count": null,
   "metadata": {},
   "outputs": [],
   "source": []
  },
  {
   "cell_type": "code",
   "execution_count": null,
   "metadata": {},
   "outputs": [],
   "source": []
  },
  {
   "cell_type": "code",
   "execution_count": null,
   "metadata": {},
   "outputs": [],
   "source": []
  },
  {
   "cell_type": "code",
   "execution_count": null,
   "metadata": {},
   "outputs": [],
   "source": []
  },
  {
   "cell_type": "code",
   "execution_count": null,
   "metadata": {},
   "outputs": [],
   "source": []
  },
  {
   "cell_type": "code",
   "execution_count": null,
   "metadata": {},
   "outputs": [],
   "source": []
  },
  {
   "cell_type": "code",
   "execution_count": null,
   "metadata": {},
   "outputs": [],
   "source": []
  },
  {
   "cell_type": "code",
   "execution_count": 76,
   "metadata": {},
   "outputs": [],
   "source": [
    "# euclidean distance measurements\n",
    "eu_val_slim = euclidean_distance(X_val_slim,recon_val_slim)"
   ]
  },
  {
   "cell_type": "code",
   "execution_count": null,
   "metadata": {},
   "outputs": [],
   "source": []
  },
  {
   "cell_type": "code",
   "execution_count": 77,
   "metadata": {},
   "outputs": [
    {
     "data": {
      "text/plain": [
       "array([0, 1, 0, 0, 0, 0, 1, 1, 1, 0, 1, 1, 1, 0, 0, 0, 1, 0, 0, 0, 0, 0,\n",
       "       0, 1, 0, 0, 1, 0, 0, 0, 1, 0, 0, 0, 1, 0, 0, 0, 1, 1, 0, 0, 0, 0,\n",
       "       0, 0, 1, 0, 0, 0, 0, 0, 0, 0, 0, 0, 0, 1, 0, 0, 1, 1, 0, 1, 0, 0,\n",
       "       1, 0, 0, 0, 0, 0, 0, 0, 0, 0, 0, 0, 1, 1, 0, 0, 1, 1, 0, 0, 0, 1,\n",
       "       1, 1, 0, 0, 0, 0, 1, 0, 1, 0, 0, 0, 0, 0, 0, 1, 0, 1, 0, 0, 0, 1,\n",
       "       0, 1, 0, 1, 0, 0, 1, 0, 1, 0, 0, 1, 0, 0, 0, 1, 0, 0, 0, 0, 1, 1,\n",
       "       1, 0, 0, 1, 0, 0, 1, 0, 0, 1, 0, 0, 1, 0, 1, 1, 0, 0, 1, 1, 0, 1,\n",
       "       1, 1, 0, 1, 0, 1, 0, 0, 1, 1, 1, 0, 0, 1, 0, 0, 1, 0, 1, 0, 0, 1,\n",
       "       0, 1, 0, 0, 0, 1, 1, 0, 0, 0, 0, 0, 0, 0, 0, 0, 0, 0, 0, 0, 0, 0,\n",
       "       0, 1, 0, 1, 0, 1, 1, 0, 0, 1, 0, 0, 1, 0, 0, 0, 1, 0, 1, 1, 0, 0,\n",
       "       1, 0, 0, 0, 1, 0, 0, 0, 0, 1, 0, 1, 0, 1, 0, 1, 1, 0, 0, 0, 0, 0,\n",
       "       0, 0, 1, 1, 0, 0, 0, 1, 0, 1, 0, 0, 1, 0, 1, 1, 0, 0, 1, 1, 0, 0,\n",
       "       0, 0, 1, 0, 1, 1, 0, 0, 0, 0, 1, 1, 0, 0, 0, 0, 0, 0, 0, 1, 0, 0,\n",
       "       0, 0, 0, 1, 0, 1, 1, 0, 1, 1, 0, 1, 1, 0, 1, 0, 1, 0, 0, 0, 1, 1,\n",
       "       1, 1, 0, 0, 1, 0, 0, 0, 0, 1, 1, 0, 0, 0, 0, 1, 0, 1, 0, 0, 1, 0,\n",
       "       0, 0, 1, 0, 0, 0, 0, 1, 1, 0, 0, 0, 1, 0, 0, 0, 1, 0, 0, 0, 1, 0,\n",
       "       0, 1, 0, 1, 0, 1, 0, 1, 0, 0, 0, 1, 0, 1, 0, 0, 0, 0, 0, 0, 1, 0,\n",
       "       0, 1, 1, 0, 0, 0, 1, 0, 1, 0, 0, 0, 0, 1, 1, 0, 1, 1, 0, 0, 0, 0,\n",
       "       0, 0, 0, 0, 0, 0, 0, 0, 0, 0, 0, 0, 0, 1, 0, 1, 0, 0, 1, 0, 0, 0,\n",
       "       0, 0, 1, 1, 0, 0, 1, 1, 1, 0, 1, 0, 0, 1, 0, 0, 1, 0, 0, 0, 0, 0,\n",
       "       1, 0, 1, 1, 0, 1, 1, 1, 0, 1, 1, 0, 0, 0, 1, 1, 0, 1, 0, 1, 1, 0,\n",
       "       1, 0, 0, 0, 0, 1, 0, 0, 1, 1, 0, 1, 0, 0, 1, 0, 0, 0, 0, 1, 1, 0,\n",
       "       1])"
      ]
     },
     "execution_count": 77,
     "metadata": {},
     "output_type": "execute_result"
    }
   ],
   "source": [
    "np.where(eu_val_slim > 3.99, 1,0)"
   ]
  },
  {
   "cell_type": "code",
   "execution_count": 78,
   "metadata": {},
   "outputs": [
    {
     "name": "stdout",
     "output_type": "stream",
     "text": [
      "8.679872\n",
      "5.301364135742188\n"
     ]
    }
   ],
   "source": [
    "print(np.max(eu_val_slim))\n",
    "print(np.percentile(eu_val_slim,90))"
   ]
  },
  {
   "cell_type": "code",
   "execution_count": 79,
   "metadata": {},
   "outputs": [
    {
     "data": {
      "text/html": [
       "<div>\n",
       "<style scoped>\n",
       "    .dataframe tbody tr th:only-of-type {\n",
       "        vertical-align: middle;\n",
       "    }\n",
       "\n",
       "    .dataframe tbody tr th {\n",
       "        vertical-align: top;\n",
       "    }\n",
       "\n",
       "    .dataframe thead th {\n",
       "        text-align: right;\n",
       "    }\n",
       "</style>\n",
       "<table border=\"1\" class=\"dataframe\">\n",
       "  <thead>\n",
       "    <tr style=\"text-align: right;\">\n",
       "      <th></th>\n",
       "      <th>euclidean</th>\n",
       "      <th>class</th>\n",
       "      <th>true_class</th>\n",
       "      <th>prediction</th>\n",
       "    </tr>\n",
       "  </thead>\n",
       "  <tbody>\n",
       "    <tr>\n",
       "      <td>0</td>\n",
       "      <td>3.325459</td>\n",
       "      <td>0</td>\n",
       "      <td>-1</td>\n",
       "      <td>1</td>\n",
       "    </tr>\n",
       "    <tr>\n",
       "      <td>1</td>\n",
       "      <td>5.730689</td>\n",
       "      <td>0</td>\n",
       "      <td>-1</td>\n",
       "      <td>-1</td>\n",
       "    </tr>\n",
       "    <tr>\n",
       "      <td>2</td>\n",
       "      <td>2.760932</td>\n",
       "      <td>0</td>\n",
       "      <td>-1</td>\n",
       "      <td>1</td>\n",
       "    </tr>\n",
       "    <tr>\n",
       "      <td>3</td>\n",
       "      <td>1.912342</td>\n",
       "      <td>0</td>\n",
       "      <td>-1</td>\n",
       "      <td>1</td>\n",
       "    </tr>\n",
       "    <tr>\n",
       "      <td>4</td>\n",
       "      <td>2.795930</td>\n",
       "      <td>0</td>\n",
       "      <td>-1</td>\n",
       "      <td>1</td>\n",
       "    </tr>\n",
       "  </tbody>\n",
       "</table>\n",
       "</div>"
      ],
      "text/plain": [
       "   euclidean  class  true_class  prediction\n",
       "0   3.325459      0          -1           1\n",
       "1   5.730689      0          -1          -1\n",
       "2   2.760932      0          -1           1\n",
       "3   1.912342      0          -1           1\n",
       "4   2.795930      0          -1           1"
      ]
     },
     "execution_count": 79,
     "metadata": {},
     "output_type": "execute_result"
    }
   ],
   "source": [
    "df = create_df_reconstruction(eu_val_slim, y_val_slim, \"euclidean\",class_to_remove, 3.99)\n",
    "df.head()"
   ]
  },
  {
   "cell_type": "code",
   "execution_count": 81,
   "metadata": {},
   "outputs": [
    {
     "data": {
      "image/png": "[encoded data removed]",
      "text/plain": [
       "<Figure size 720x576 with 1 Axes>"
      ]
     },
     "metadata": {
      "needs_background": "light"
     },
     "output_type": "display_data"
    }
   ],
   "source": [
    "fig, ax = plt.subplots(figsize=(10,8))\n",
    "df.boxplot(column=['euclidean'], by='true_class', ax=ax)\n",
    "plt.title('Boxplots of RMSE for X_valid_slim, by Class')\n",
    "plt.suptitle('')\n",
    "plt.show()"
   ]
  },
  {
   "cell_type": "code",
   "execution_count": 82,
   "metadata": {},
   "outputs": [
    {
     "data": {
      "text/html": [
       "<div>\n",
       "<style scoped>\n",
       "    .dataframe tbody tr th:only-of-type {\n",
       "        vertical-align: middle;\n",
       "    }\n",
       "\n",
       "    .dataframe tbody tr th {\n",
       "        vertical-align: top;\n",
       "    }\n",
       "\n",
       "    .dataframe thead th {\n",
       "        text-align: right;\n",
       "    }\n",
       "</style>\n",
       "<table border=\"1\" class=\"dataframe\">\n",
       "  <thead>\n",
       "    <tr style=\"text-align: right;\">\n",
       "      <th></th>\n",
       "      <th>euclidean</th>\n",
       "      <th>class</th>\n",
       "      <th>true_class</th>\n",
       "      <th>prediction</th>\n",
       "    </tr>\n",
       "  </thead>\n",
       "  <tbody>\n",
       "    <tr>\n",
       "      <td>0</td>\n",
       "      <td>9.513305</td>\n",
       "      <td>9</td>\n",
       "      <td>1</td>\n",
       "      <td>-1</td>\n",
       "    </tr>\n",
       "    <tr>\n",
       "      <td>1</td>\n",
       "      <td>4.534059</td>\n",
       "      <td>0</td>\n",
       "      <td>-1</td>\n",
       "      <td>-1</td>\n",
       "    </tr>\n",
       "    <tr>\n",
       "      <td>2</td>\n",
       "      <td>2.877383</td>\n",
       "      <td>0</td>\n",
       "      <td>-1</td>\n",
       "      <td>1</td>\n",
       "    </tr>\n",
       "    <tr>\n",
       "      <td>3</td>\n",
       "      <td>3.777819</td>\n",
       "      <td>3</td>\n",
       "      <td>1</td>\n",
       "      <td>1</td>\n",
       "    </tr>\n",
       "    <tr>\n",
       "      <td>4</td>\n",
       "      <td>4.866239</td>\n",
       "      <td>0</td>\n",
       "      <td>-1</td>\n",
       "      <td>-1</td>\n",
       "    </tr>\n",
       "    <tr>\n",
       "      <td>5</td>\n",
       "      <td>7.156709</td>\n",
       "      <td>2</td>\n",
       "      <td>-1</td>\n",
       "      <td>-1</td>\n",
       "    </tr>\n",
       "    <tr>\n",
       "      <td>6</td>\n",
       "      <td>7.896404</td>\n",
       "      <td>7</td>\n",
       "      <td>1</td>\n",
       "      <td>-1</td>\n",
       "    </tr>\n",
       "    <tr>\n",
       "      <td>7</td>\n",
       "      <td>8.219693</td>\n",
       "      <td>2</td>\n",
       "      <td>-1</td>\n",
       "      <td>-1</td>\n",
       "    </tr>\n",
       "    <tr>\n",
       "      <td>8</td>\n",
       "      <td>6.233595</td>\n",
       "      <td>5</td>\n",
       "      <td>1</td>\n",
       "      <td>-1</td>\n",
       "    </tr>\n",
       "    <tr>\n",
       "      <td>9</td>\n",
       "      <td>9.923738</td>\n",
       "      <td>5</td>\n",
       "      <td>1</td>\n",
       "      <td>-1</td>\n",
       "    </tr>\n",
       "    <tr>\n",
       "      <td>10</td>\n",
       "      <td>3.168324</td>\n",
       "      <td>0</td>\n",
       "      <td>-1</td>\n",
       "      <td>1</td>\n",
       "    </tr>\n",
       "    <tr>\n",
       "      <td>11</td>\n",
       "      <td>9.742963</td>\n",
       "      <td>9</td>\n",
       "      <td>1</td>\n",
       "      <td>-1</td>\n",
       "    </tr>\n",
       "    <tr>\n",
       "      <td>12</td>\n",
       "      <td>6.147579</td>\n",
       "      <td>5</td>\n",
       "      <td>1</td>\n",
       "      <td>-1</td>\n",
       "    </tr>\n",
       "    <tr>\n",
       "      <td>13</td>\n",
       "      <td>5.845478</td>\n",
       "      <td>5</td>\n",
       "      <td>1</td>\n",
       "      <td>-1</td>\n",
       "    </tr>\n",
       "    <tr>\n",
       "      <td>14</td>\n",
       "      <td>6.042473</td>\n",
       "      <td>7</td>\n",
       "      <td>1</td>\n",
       "      <td>-1</td>\n",
       "    </tr>\n",
       "    <tr>\n",
       "      <td>15</td>\n",
       "      <td>9.789713</td>\n",
       "      <td>9</td>\n",
       "      <td>1</td>\n",
       "      <td>-1</td>\n",
       "    </tr>\n",
       "    <tr>\n",
       "      <td>16</td>\n",
       "      <td>6.095846</td>\n",
       "      <td>1</td>\n",
       "      <td>1</td>\n",
       "      <td>-1</td>\n",
       "    </tr>\n",
       "    <tr>\n",
       "      <td>17</td>\n",
       "      <td>2.619544</td>\n",
       "      <td>0</td>\n",
       "      <td>-1</td>\n",
       "      <td>1</td>\n",
       "    </tr>\n",
       "    <tr>\n",
       "      <td>18</td>\n",
       "      <td>4.741771</td>\n",
       "      <td>6</td>\n",
       "      <td>1</td>\n",
       "      <td>-1</td>\n",
       "    </tr>\n",
       "    <tr>\n",
       "      <td>19</td>\n",
       "      <td>3.732815</td>\n",
       "      <td>4</td>\n",
       "      <td>1</td>\n",
       "      <td>1</td>\n",
       "    </tr>\n",
       "  </tbody>\n",
       "</table>\n",
       "</div>"
      ],
      "text/plain": [
       "    euclidean  class  true_class  prediction\n",
       "0    9.513305      9           1          -1\n",
       "1    4.534059      0          -1          -1\n",
       "2    2.877383      0          -1           1\n",
       "3    3.777819      3           1           1\n",
       "4    4.866239      0          -1          -1\n",
       "5    7.156709      2          -1          -1\n",
       "6    7.896404      7           1          -1\n",
       "7    8.219693      2          -1          -1\n",
       "8    6.233595      5           1          -1\n",
       "9    9.923738      5           1          -1\n",
       "10   3.168324      0          -1           1\n",
       "11   9.742963      9           1          -1\n",
       "12   6.147579      5           1          -1\n",
       "13   5.845478      5           1          -1\n",
       "14   6.042473      7           1          -1\n",
       "15   9.789713      9           1          -1\n",
       "16   6.095846      1           1          -1\n",
       "17   2.619544      0          -1           1\n",
       "18   4.741771      6           1          -1\n",
       "19   3.732815      4           1           1"
      ]
     },
     "execution_count": 82,
     "metadata": {},
     "output_type": "execute_result"
    }
   ],
   "source": [
    "recon_val = sparse_kl_ae(X_val).numpy()\n",
    "recon_val.shape\n",
    "\n",
    "eu_val = euclidean_distance(X_val,recon_val)\n",
    "eu_val\n",
    "\n",
    "df = create_df_reconstruction(eu_val, y_val, \"euclidean\",class_to_remove, 3.99)\n",
    "df[0:20]"
   ]
  },
  {
   "cell_type": "code",
   "execution_count": 83,
   "metadata": {},
   "outputs": [
    {
     "data": {
      "image/png": "[encoded data removed]",
      "text/plain": [
       "<Figure size 720x576 with 1 Axes>"
      ]
     },
     "metadata": {
      "needs_background": "light"
     },
     "output_type": "display_data"
    }
   ],
   "source": [
    "fig, ax = plt.subplots(figsize=(10,8))\n",
    "df.boxplot(column=['euclidean'], by='class', ax=ax)\n",
    "plt.title('Boxplots of RMSE for X_valid_slim, by Class')\n",
    "plt.suptitle('')\n",
    "plt.show()"
   ]
  },
  {
   "cell_type": "code",
   "execution_count": null,
   "metadata": {},
   "outputs": [],
   "source": []
  }
 ],
 "metadata": {
  "kernelspec": {
   "display_name": "Python 3",
   "language": "python",
   "name": "python3"
  },
  "language_info": {
   "codemirror_mode": {
    "name": "ipython",
    "version": 3
   },
   "file_extension": ".py",
   "mimetype": "text/x-python",
   "name": "python",
   "nbconvert_exporter": "python",
   "pygments_lexer": "ipython3",
   "version": "3.7.3"
  }
 },
 "nbformat": 4,
 "nbformat_minor": 2
}
