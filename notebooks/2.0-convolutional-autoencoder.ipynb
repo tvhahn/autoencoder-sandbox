{
 "cells": [
  {
   "cell_type": "markdown",
   "metadata": {},
   "source": [
    "# Convolutional Autoencoder\n",
    "Build a convolutional autoencoder to work on fashion-MNIST data set. \"Hands-On Machine Learning\", by Aurelien Geron, is the basis for much of the code. https://github.com/ageron/handson-ml2"
   ]
  },
  {
   "cell_type": "code",
   "execution_count": 1,
   "metadata": {},
   "outputs": [
    {
     "name": "stdout",
     "output_type": "stream",
     "text": [
      "TensorFlow version:  2.0.0\n",
      "Keras version:  2.2.4-tf\n",
      "Tensorboard version: 2.0.0\n"
     ]
    }
   ],
   "source": [
    "import numpy as np\n",
    "import datetime\n",
    "import matplotlib as mpl\n",
    "import matplotlib.pyplot as plt\n",
    "import pandas as pd\n",
    "\n",
    "import tensorflow as tf\n",
    "from tensorflow import keras\n",
    "import tensorboard\n",
    "\n",
    "print('TensorFlow version: ', tf.__version__)\n",
    "print('Keras version: ', keras.__version__)\n",
    "print('Tensorboard version:', tensorboard.__version__)\n",
    "\n",
    "%matplotlib inline"
   ]
  },
  {
   "cell_type": "markdown",
   "metadata": {},
   "source": [
    "Left align tables:"
   ]
  },
  {
   "cell_type": "code",
   "execution_count": 2,
   "metadata": {},
   "outputs": [
    {
     "data": {
      "text/html": [
       "<style>\n",
       "table {float:left}\n",
       "</style>\n"
      ],
      "text/plain": [
       "<IPython.core.display.HTML object>"
      ]
     },
     "metadata": {},
     "output_type": "display_data"
    }
   ],
   "source": [
    "%%html\n",
    "<style>\n",
    "table {float:left}\n",
    "</style>"
   ]
  },
  {
   "cell_type": "markdown",
   "metadata": {},
   "source": [
    "## 1.0 Load and Prepare Data"
   ]
  },
  {
   "cell_type": "code",
   "execution_count": 3,
   "metadata": {},
   "outputs": [],
   "source": [
    "# load fashion MNIST\n",
    "fashion_mnist = keras.datasets.fashion_mnist\n",
    "(X_train_all, y_train_all), (X_test, y_test) = fashion_mnist.load_data()"
   ]
  },
  {
   "cell_type": "code",
   "execution_count": 4,
   "metadata": {},
   "outputs": [
    {
     "name": "stdout",
     "output_type": "stream",
     "text": [
      "X_train_full shape: (60000, 28, 28)\n",
      "y_train_full shape: (60000,)\n",
      "X_test shape: (10000, 28, 28)\n",
      "y_test shape: (10000,)\n"
     ]
    }
   ],
   "source": [
    "# check the shape of the data sets\n",
    "print('X_train_full shape:', X_train_all.shape)\n",
    "print('y_train_full shape:', y_train_all.shape)\n",
    "print('X_test shape:', X_test.shape)\n",
    "print('y_test shape:', y_test.shape)"
   ]
  },
  {
   "cell_type": "code",
   "execution_count": 5,
   "metadata": {},
   "outputs": [],
   "source": [
    "class_names = [\"T-shirt/top\", \"Trouser\", \"Pullover\", \"Dress\", \"Coat\",\n",
    "               \"Sandal\", \"Shirt\", \"Sneaker\", \"Bag\", \"Ankle boot\"]"
   ]
  },
  {
   "cell_type": "code",
   "execution_count": 6,
   "metadata": {},
   "outputs": [
    {
     "name": "stdout",
     "output_type": "stream",
     "text": [
      "X_valid shape: (5000, 28, 28)\n",
      "y_valid shape: (5000,)\n",
      "X_train shape: (55000, 28, 28)\n",
      "y_train shape: (55000,)\n"
     ]
    }
   ],
   "source": [
    "# split the data between train and validation sets, and scale\n",
    "\n",
    "X_valid, X_train = X_train_all[:5000] / 255.0, X_train_all[5000:] / 255.0\n",
    "y_valid, y_train = y_train_all[:5000], y_train_all[5000:]\n",
    "\n",
    "# also scale the X_test\n",
    "X_test = X_test / 255.0\n",
    "\n",
    "print('X_valid shape:', X_valid.shape)\n",
    "print('y_valid shape:', y_valid.shape)\n",
    "print('X_train shape:', X_train.shape)\n",
    "print('y_train shape:', y_train.shape)"
   ]
  },
  {
   "cell_type": "markdown",
   "metadata": {},
   "source": [
    "## 2.0 Convolutional Autoencoder\n",
    "\n",
    "Convolutional autoencoders were originally proposed in \"Stacked Convolutional Auto-Encoders for Hierarchical Feature Extraction\" by Jonathan Masci, 2011.\n",
    "\n",
    "We will be building a 2D convolutional autoencoder. The encoder contains convolutional layers and pooling layers. The decoder transposes the convolutional layers to upscale them.\n",
    "\n",
    "Odena, et al, in their paper (https://distill.pub/2016/deconv-checkerboard/) suggest that it is better to use a resize-convolution procedure (upsample, and then perform a convolution), rather than a \"deconvolution.\" This can be used for 1D convolutional autoencoders as well."
   ]
  },
  {
   "cell_type": "code",
   "execution_count": 9,
   "metadata": {},
   "outputs": [
    {
     "name": "stdout",
     "output_type": "stream",
     "text": [
      "Model: \"sequential_6\"\n",
      "_________________________________________________________________\n",
      "Layer (type)                 Output Shape              Param #   \n",
      "=================================================================\n",
      "reshape_4 (Reshape)          (None, 28, 28, 1)         0         \n",
      "_________________________________________________________________\n",
      "conv2d_6 (Conv2D)            (None, 28, 28, 16)        160       \n",
      "_________________________________________________________________\n",
      "max_pooling2d_6 (MaxPooling2 (None, 14, 14, 16)        0         \n",
      "_________________________________________________________________\n",
      "conv2d_7 (Conv2D)            (None, 14, 14, 32)        4640      \n",
      "_________________________________________________________________\n",
      "max_pooling2d_7 (MaxPooling2 (None, 7, 7, 32)          0         \n",
      "_________________________________________________________________\n",
      "conv2d_8 (Conv2D)            (None, 7, 7, 64)          18496     \n",
      "_________________________________________________________________\n",
      "max_pooling2d_8 (MaxPooling2 (None, 3, 3, 64)          0         \n",
      "=================================================================\n",
      "Total params: 23,296\n",
      "Trainable params: 23,296\n",
      "Non-trainable params: 0\n",
      "_________________________________________________________________\n",
      "Model: \"sequential_7\"\n",
      "_________________________________________________________________\n",
      "Layer (type)                 Output Shape              Param #   \n",
      "=================================================================\n",
      "conv2d_transpose_6 (Conv2DTr (None, 7, 7, 32)          18464     \n",
      "_________________________________________________________________\n",
      "conv2d_transpose_7 (Conv2DTr (None, 14, 14, 16)        4624      \n",
      "_________________________________________________________________\n",
      "conv2d_transpose_8 (Conv2DTr (None, 28, 28, 1)         145       \n",
      "_________________________________________________________________\n",
      "reshape_5 (Reshape)          (None, 28, 28)            0         \n",
      "=================================================================\n",
      "Total params: 23,233\n",
      "Trainable params: 23,233\n",
      "Non-trainable params: 0\n",
      "_________________________________________________________________\n"
     ]
    }
   ],
   "source": [
    "tf.random.set_seed(42)\n",
    "np.random.seed(42)\n",
    "\n",
    "conv_encoder = keras.models.Sequential([\n",
    "    keras.layers.Reshape([28, 28, 1], input_shape=[28, 28]),\n",
    "    keras.layers.Conv2D(16, kernel_size=3, padding=\"SAME\", activation=\"selu\"),\n",
    "    keras.layers.MaxPool2D(pool_size=2),\n",
    "    keras.layers.Conv2D(32, kernel_size=3, padding=\"SAME\", activation=\"selu\"),\n",
    "    keras.layers.MaxPool2D(pool_size=2),\n",
    "    keras.layers.Conv2D(64, kernel_size=3, padding=\"SAME\", activation=\"selu\"),\n",
    "    keras.layers.MaxPool2D(pool_size=2)\n",
    "])\n",
    "conv_decoder = keras.models.Sequential([\n",
    "    keras.layers.Conv2DTranspose(32, kernel_size=3, strides=2, padding=\"VALID\", activation=\"selu\",\n",
    "                                 input_shape=[3, 3, 64]),\n",
    "    keras.layers.Conv2DTranspose(16, kernel_size=3, strides=2, padding=\"SAME\", activation=\"selu\"),\n",
    "    keras.layers.Conv2DTranspose(1, kernel_size=3, strides=2, padding=\"SAME\", activation=\"sigmoid\"),\n",
    "    keras.layers.Reshape([28, 28])\n",
    "])\n",
    "conv_ae = keras.models.Sequential([conv_encoder, conv_decoder])\n",
    "\n",
    "conv_ae.compile(loss=\"binary_crossentropy\", optimizer=keras.optimizers.Adam(),)\n",
    "\n",
    "conv_encoder.summary()\n",
    "conv_decoder.summary()\n"
   ]
  },
  {
   "cell_type": "code",
   "execution_count": 10,
   "metadata": {},
   "outputs": [
    {
     "name": "stdout",
     "output_type": "stream",
     "text": [
      "Train on 55000 samples, validate on 5000 samples\n",
      "Epoch 1/5\n",
      "55000/55000 [==============================] - 11s 206us/sample - loss: 0.2928 - val_loss: 0.2702\n",
      "Epoch 2/5\n",
      "55000/55000 [==============================] - 9s 156us/sample - loss: 0.2695 - val_loss: 0.2641\n",
      "Epoch 3/5\n",
      "55000/55000 [==============================] - 9s 162us/sample - loss: 0.2651 - val_loss: 0.2610\n",
      "Epoch 4/5\n",
      "55000/55000 [==============================] - 9s 165us/sample - loss: 0.2627 - val_loss: 0.2588\n",
      "Epoch 5/5\n",
      "55000/55000 [==============================] - 9s 162us/sample - loss: 0.2611 - val_loss: 0.2574\n"
     ]
    }
   ],
   "source": [
    "history = conv_ae.fit(X_train, X_train, epochs=5,\n",
    "                      validation_data=[X_valid, X_valid])"
   ]
  },
  {
   "cell_type": "code",
   "execution_count": 11,
   "metadata": {},
   "outputs": [],
   "source": [
    "def plot_reconstructions(model, index_list, X_valid):\n",
    "    \"\"\"Plot some original images, and their reconstructions\n",
    "    \n",
    "    Parameters\n",
    "    ===========\n",
    "    model : keras model\n",
    "        Autoencoder model\n",
    "        \n",
    "    index_list : list\n",
    "        List of indices. These indices correspond to the index of the X_valid images\n",
    "        that will be shown\n",
    "        \n",
    "    X_valid : numpy array\n",
    "        X_valid set\n",
    "\n",
    "    \"\"\"\n",
    "    \n",
    "    reconstructions = model.predict(X_valid)\n",
    "    \n",
    "    # get the length of index_list to set number of\n",
    "    # images to plot\n",
    "    n_images = len(index_list)\n",
    "\n",
    "    # Plot a random sample\n",
    "    fig, axes = plt.subplots(2, n_images,figsize=(n_images*1.5,3),dpi=150)\n",
    "    # fig.suptitle('Digits for Sample %i' %num, size=15, x=0.2)\n",
    "\n",
    "    for i in range(0, n_images):\n",
    "        axes[0][i].imshow(np.reshape(X_valid[index_list[i],:,:],[28,28]), cmap='Greys_r')\n",
    "        axes[0][i].axis('off')\n",
    "        axes[0][i].set_title(str(index_list[i]))\n",
    "        axes[1][i].imshow(np.reshape(reconstructions[index_list[i],:,:],[28,28]), cmap='Greys_r')\n",
    "        axes[1][i].axis('off')\n",
    "        \n",
    "    plt.show()"
   ]
  },
  {
   "cell_type": "code",
   "execution_count": 19,
   "metadata": {},
   "outputs": [
    {
     "data": {
      "image/png": "[encoded data removed]",
      "text/plain": [
       "<Figure size 1125x450 with 10 Axes>"
      ]
     },
     "metadata": {
      "needs_background": "light"
     },
     "output_type": "display_data"
    }
   ],
   "source": [
    "# plot a random number of items\n",
    "import random\n",
    "index_list = random.sample(range(0,len(X_valid)), 5)\n",
    "\n",
    "plot_reconstructions(conv_ae, index_list, X_valid)"
   ]
  }
 ],
 "metadata": {
  "kernelspec": {
   "display_name": "Python 3",
   "language": "python",
   "name": "python3"
  },
  "language_info": {
   "codemirror_mode": {
    "name": "ipython",
    "version": 3
   },
   "file_extension": ".py",
   "mimetype": "text/x-python",
   "name": "python",
   "nbconvert_exporter": "python",
   "pygments_lexer": "ipython3",
   "version": "3.7.3"
  }
 },
 "nbformat": 4,
 "nbformat_minor": 2
}
